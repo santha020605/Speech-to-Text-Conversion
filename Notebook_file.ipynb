{
 "cells": [
  {
   "cell_type": "code",
   "execution_count": null,
   "id": "6a362597",
   "metadata": {},
   "outputs": [],
   "source": [
    "!pip install SpeechRecognition\n",
    "!pip install pyttsx3\n",
    "!pip install pyaudio"
   ]
  },
  {
   "cell_type": "code",
   "execution_count": null,
   "id": "9f222164-28e5-4251-8cb8-2c312218747c",
   "metadata": {},
   "outputs": [],
   "source": [
    "import speech_recognition as sr"
   ]
  },
  {
   "cell_type": "code",
   "execution_count": null,
   "id": "597493d1-14fc-4c02-a1b3-21f71ba66d1a",
   "metadata": {},
   "outputs": [],
   "source": [
    "import pyttsx3"
   ]
  },
  {
   "cell_type": "code",
   "execution_count": null,
   "id": "4da5870e-5f10-438d-ba4b-856ccd95ddfd",
   "metadata": {},
   "outputs": [],
   "source": [
    "recognizer = sr.Recognizer()\n",
    "engine = pyttsx3.init()"
   ]
  },
  {
   "cell_type": "code",
   "execution_count": null,
   "id": "a0ff47b3-6fe3-4da8-b83f-20f47b9e6610",
   "metadata": {},
   "outputs": [],
   "source": [
    "def speak(text):\n",
    "    engine.say(text)\n",
    "    engine.runAndWait()\n",
    "    \n",
    "    speak(\"Hi bro I am your voice assistant. Speak Something!\")"
   ]
  },
  {
   "cell_type": "code",
   "execution_count": null,
   "id": "1138cbcb-f2fe-4bfd-9493-6699b14a0650",
   "metadata": {},
   "outputs": [],
   "source": [
    "while True:\n",
    "    try:\n",
    "        with sr.Microphone() as source:\n",
    "            print(\"\\nListening....\")\n",
    "\n",
    "            recognizer.adjust_for_ambient_noise(source,duration=1)\n",
    "            audio = recognizer.listen(source,timeout=5,phrase_time_limit=5)\n",
    "\n",
    "        text = recognizer.recognize_google(audio)\n",
    "        print(\"you said :\",text)\n",
    "\n",
    "        if \"exit\" in text.lower() or \"stop\" in text.lower():\n",
    "            speak(\"Good bye bro !\")\n",
    "            break\n",
    "\n",
    "        response = f\"You said : {text}\"\n",
    "        speak(response)\n",
    "\n",
    "    except sr.UnknownValueError:\n",
    "        print(\"Sorryyy, I didn't catch that bro please say again.\")\n",
    "        speak(\"sorryyy bro i didn't understand your slang.please Say Again.\")\n",
    "\n",
    "    except sr.RequestError:\n",
    "        print(\"Check your internet connection.\")\n",
    "        speak(\"Sorry bro there's a connection issue.\")\n",
    "        break\n"
   ]
  }
 ],
 "metadata": {
  "kernelspec": {
   "display_name": "Python [conda env:base] *",
   "language": "python",
   "name": "conda-base-py"
  },
  "language_info": {
   "codemirror_mode": {
    "name": "ipython",
    "version": 3
   },
   "file_extension": ".py",
   "mimetype": "text/x-python",
   "name": "python",
   "nbconvert_exporter": "python",
   "pygments_lexer": "ipython3",
   "version": "3.13.5"
  }
 },
 "nbformat": 4,
 "nbformat_minor": 5
}
